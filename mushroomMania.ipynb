{
  "cells": [
    {
      "cell_type": "markdown",
      "metadata": {},
      "source": [
        "# Mushroom Harvesting Project\n",
        "\n",
        "**Context**  \n",
        "The effects of mushrooms, if unidentified can often be fatal. Finding ways to easily and reliably identify whether a mushroom is poisonous or not, is critical to reducing the number of hospitalisations and deaths that can occur because of consuming poisonous mushrooms.  \n",
        "\n",
        "For this project, we are looking into how AI can assist with the identification of mushrooms, particularly in identifying if they are poisonous or not based on various characteristics. Creating a highly accurate model would reduce human error.  \n",
        "\n",
        "Extending the project, we might also look into training a mushroom picking robot that uses the model to identify if the mushrooms it picks up are poisonous or not. Training the robot through reinforcement learning would increase its efficiency, following the growing behaviours of mushrooms. For example, as mushrooms are typically grouped together in bunches it may learning to slow down and thoroughly scan through nearby areas once it finds a suitable mushroom.  \n",
        "\n",
        "The final Mushroom Classification Model will allow our Mushroom Harvester to differentiate between edible and non-edible mushrooms and ensure a quality harvest.  \n",
        "\n",
        "This will be useful for farmers in agricultural applications to improve quality control of crop harvesting. It could also be applied to identify other features such as quality, colour, and ripeness.  \n",
        "\n",
        "A reliable model could have great commercial potential as Supermarkets will likely to support Farmers that have improved Quality Assurance Processes which allow for high quality produce.  \n",
        "\n",
        "\n",
        "**Solving the Problem: Our Approach**  \n",
        "We intend to solve this problem through a 5-step process, using AI principles.  \n",
        "\n",
        "\n",
        "**Data Preparation (Mushroom Data)** \n",
        "Clean and preprocess the mushroom data. \n",
        "\n",
        "The dataset we have selected (https://www.kaggle.com/datasets/uciml/mushroom-classification/data) contains 23 unique features. Prior to training a model, we will use PCA to identify the principal components and most important features required to identify the edibility. We will also use K-Means to identify the causes of variance within the poisonous and non-poisonous clusters. \n",
        "\n",
        "\n",
        "**Feature Selection / Extraction (Mushroom Data)**  \n",
        "This step involves using the results of the clustering and PCA analysis to identify the relevant features from the mushroom data that can be used to distinguish between edible and non-edible mushrooms. \n",
        "These features could be related to the mushroom’s physical appearance, any bruising on the mushrooms, or information about its habitat – or a combination of any of these. \n",
        "Some of the high-level categories identified include data about the classification of mushroom (whether its poisonous or not), physical classification features (such as its appearance), quality of the mushroom (whether it has bruising or not) and information about location/ habitat.  \n",
        "\n",
        "\n",
        "**Model Training and Evaluation (Mushroom Data)**  \n",
        "By splitting the data into test and training sets, it is possible to train a model to be able to predict the likelihood of a particular type of mushroom with 100% accuracy – based on accurate input data. \n",
        "We will train a variety of models using different supervised model training methods, such as: \n",
        "- SVM Classification \n",
        "- Gaussian Process \n",
        "- CNN \n",
        "We will then use standard evaluation metrics to determine the accuracy of each model and decide on an approach accordingly. \n",
        "\n",
        "\n",
        "**Reinforcement Learning**  \n",
        "Involves extending the project to train a robot car to go to mushroom goals using Q-Learning. This would involve using a Car Robot to drive around an environment that is populated with edible and non-edible mushrooms.  \n",
        "1. teaching the model to identify between edible and non-edible mushrooms. \n",
        "2. The robot then adds collected mushrooms to a container. \n",
        "3. the collected mushrooms are evaluated. \n",
        "\n",
        "**Model Optimisation**  \n",
        "It involves optimising the Q-Learning Model  \n",
        "This will be achieved by improving the robot’s mushroom collection by adjusting learning parameters. \n",
        "\n"
      ]
    },
    {
      "cell_type": "code",
      "execution_count": null,
      "metadata": {
        "id": "AgGuSp5X1yUC"
      },
      "outputs": [],
      "source": [
        "# get the datasets\n",
        "import gdown\n",
        "\n",
        "url = \"\"\n",
        "gdown.download_folder(url, quiet=True, use_cookies=False)\n",
        "import tarfile\n",
        "file = tarfile.open('')\n",
        "file.extractall('data')\n",
        "file.close()\n",
        "file = tarfile.open('')\n",
        "file.extractall('data')\n",
        "file.close()"
      ]
    },
    {
      "cell_type": "markdown",
      "metadata": {
        "id": "sysD_KFkIjJn"
      },
      "source": [
        "**Pre-processing the Mushroom Data**\n"
      ]
    },
    {
      "cell_type": "code",
      "execution_count": null,
      "metadata": {
        "id": "DmbGgVhXIlAP"
      },
      "outputs": [],
      "source": []
    },
    {
      "cell_type": "markdown",
      "metadata": {},
      "source": [
        "**Mushroom Data Model Training**"
      ]
    },
    {
      "cell_type": "code",
      "execution_count": null,
      "metadata": {},
      "outputs": [],
      "source": [
        "## SVM Classification\n"
      ]
    },
    {
      "cell_type": "code",
      "execution_count": null,
      "metadata": {},
      "outputs": [],
      "source": [
        "## Gaussian Processing\n"
      ]
    },
    {
      "cell_type": "code",
      "execution_count": null,
      "metadata": {},
      "outputs": [],
      "source": [
        "## Convolutional Neural Network\n"
      ]
    },
    {
      "cell_type": "markdown",
      "metadata": {},
      "source": [
        "**Mushroom Data Model Evaluation**"
      ]
    },
    {
      "cell_type": "code",
      "execution_count": null,
      "metadata": {},
      "outputs": [],
      "source": []
    },
    {
      "cell_type": "markdown",
      "metadata": {},
      "source": [
        "**Mushroom Harvester Set up**"
      ]
    },
    {
      "cell_type": "code",
      "execution_count": null,
      "metadata": {},
      "outputs": [],
      "source": []
    },
    {
      "cell_type": "markdown",
      "metadata": {},
      "source": [
        "**Mushroom Harvester - Reinforcement Learning**"
      ]
    },
    {
      "cell_type": "code",
      "execution_count": null,
      "metadata": {},
      "outputs": [],
      "source": [
        "## Q-Learning"
      ]
    },
    {
      "cell_type": "markdown",
      "metadata": {},
      "source": [
        "**Mushroom Harvester Simulation**"
      ]
    },
    {
      "cell_type": "code",
      "execution_count": null,
      "metadata": {},
      "outputs": [],
      "source": []
    }
  ],
  "metadata": {
    "colab": {
      "provenance": []
    },
    "kernelspec": {
      "display_name": "Python 3",
      "language": "python",
      "name": "python3"
    },
    "language_info": {
      "codemirror_mode": {
        "name": "ipython",
        "version": 3
      },
      "file_extension": ".py",
      "mimetype": "text/x-python",
      "name": "python",
      "nbconvert_exporter": "python",
      "pygments_lexer": "ipython3",
      "version": "3.8.19"
    },
    "orig_nbformat": 4,
    "vscode": {
      "interpreter": {
        "hash": "916dbcbb3f70747c44a77c7bcd40155683ae19c65e1c03b4aa3499c5328201f1"
      }
    }
  },
  "nbformat": 4,
  "nbformat_minor": 0
}
