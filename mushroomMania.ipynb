{
  "cells": [
    {
      "cell_type": "markdown",
      "metadata": {
        "id": "5is2yMbV1yT9"
      },
      "source": [
        "# Assignment CNN + LSTM\n",
        "\n",
        "\n",
        "In this assignement we use a CNN for predicting keypoints from an image and an LSTM for predicting keypoints ahead of time.\n",
        "---\n",
        "Let's start by downloading the data"
      ]
    },
    {
      "cell_type": "code",
      "execution_count": null,
      "metadata": {
        "id": "AgGuSp5X1yUC"
      },
      "outputs": [],
      "source": [
        "# get the datasets\n",
        "import gdown\n",
        "\n",
        "url = \"\"\n",
        "gdown.download_folder(url, quiet=True, use_cookies=False)\n",
        "import tarfile\n",
        "file = tarfile.open('')\n",
        "file.extractall('data')\n",
        "file.close()\n",
        "file = tarfile.open('')\n",
        "file.extractall('data')\n",
        "file.close()"
      ]
    },
    {
      "cell_type": "markdown",
      "source": [
        "ahhhh\n"
      ],
      "metadata": {
        "id": "sysD_KFkIjJn"
      }
    },
    {
      "cell_type": "code",
      "source": [],
      "metadata": {
        "id": "DmbGgVhXIlAP"
      },
      "execution_count": null,
      "outputs": []
    }
  ],
  "metadata": {
    "kernelspec": {
      "display_name": "Python 3",
      "language": "python",
      "name": "python3"
    },
    "language_info": {
      "codemirror_mode": {
        "name": "ipython",
        "version": 3
      },
      "file_extension": ".py",
      "mimetype": "text/x-python",
      "name": "python",
      "nbconvert_exporter": "python",
      "pygments_lexer": "ipython3",
      "version": "3.8.10"
    },
    "orig_nbformat": 4,
    "vscode": {
      "interpreter": {
        "hash": "916dbcbb3f70747c44a77c7bcd40155683ae19c65e1c03b4aa3499c5328201f1"
      }
    },
    "colab": {
      "provenance": []
    }
  },
  "nbformat": 4,
  "nbformat_minor": 0
}