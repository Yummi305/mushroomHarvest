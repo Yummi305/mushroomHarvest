{
  "cells": [
    {
      "cell_type": "code",
      "execution_count": 1,
      "metadata": {
        "colab": {
          "base_uri": "https://localhost:8080/",
          "height": 1000
        },
        "id": "lWIiI2lAg1Zh",
        "outputId": "6b7383c6-0ace-489a-f8fa-1d3fc672bb3a"
      },
      "outputs": [
        {
          "ename": "ValueError",
          "evalue": "not enough values to unpack (expected 5, got 4)",
          "output_type": "error",
          "traceback": [
            "\u001b[0;31m---------------------------------------------------------------------------\u001b[0m",
            "\u001b[0;31mValueError\u001b[0m                                Traceback (most recent call last)",
            "Cell \u001b[0;32mIn[1], line 14\u001b[0m\n\u001b[1;32m     11\u001b[0m \u001b[38;5;28;01mfrom\u001b[39;00m \u001b[38;5;21;01mtrain\u001b[39;00m \u001b[38;5;28;01mimport\u001b[39;00m train_linear_regression\n\u001b[1;32m     12\u001b[0m \u001b[38;5;28;01mfrom\u001b[39;00m \u001b[38;5;21;01mutils\u001b[39;00m \u001b[38;5;28;01mimport\u001b[39;00m accuracy_score, confusion_matrix, roc_curve\n\u001b[0;32m---> 14\u001b[0m logreg, X_train, X_test, y_train, y_test \u001b[38;5;241m=\u001b[39m train_linear_regression(save_to_file\u001b[38;5;241m=\u001b[39m\u001b[38;5;28;01mFalse\u001b[39;00m, mushrooms_csv\u001b[38;5;241m=\u001b[39m\u001b[38;5;124m'\u001b[39m\u001b[38;5;124m../data/mushrooms.csv\u001b[39m\u001b[38;5;124m'\u001b[39m)\n\u001b[1;32m     16\u001b[0m \u001b[38;5;66;03m# get predictions\u001b[39;00m\n\u001b[1;32m     17\u001b[0m logreg_pred \u001b[38;5;241m=\u001b[39m logreg\u001b[38;5;241m.\u001b[39mpredict(X_test)\n",
            "\u001b[0;31mValueError\u001b[0m: not enough values to unpack (expected 5, got 4)"
          ]
        }
      ],
      "source": [
        "##########################################################################################\n",
        "# K-MEANS and LOG LogisticRegression + Results\n",
        "##########################################################################################\n",
        "import pandas as pd\n",
        "import numpy as np\n",
        "import matplotlib.pyplot as plt\n",
        "\n",
        "from sklearn.metrics import f1_score\n",
        "from sklearn.metrics import jaccard_score\n",
        "\n",
        "from train import train_linear_regression\n",
        "from utils import accuracy_score, confusion_matrix, roc_curve\n",
        "\n",
        "logreg, X_train, X_test, y_train, y_test = train_linear_regression(save_to_file=False, mushrooms_csv='../data/mushrooms.csv')\n",
        "\n",
        "# get predictions\n",
        "logreg_pred = logreg.predict(X_test)\n",
        "\n",
        "\n",
        "# reuslts - group together into a dataFrame\n",
        "result_df = pd.DataFrame()\n",
        "result_df['y_test'] = np.array(y_test)\n",
        "result_df['logreg_pred'] = logreg_pred\n",
        "result_df['logreg_correct'] = result_df['logreg_pred'] == result_df['y_test'] # correct when pred == actual\n",
        "\n",
        "# Compute confusion matrix\n",
        "logreg_conf_mat = confusion_matrix(y_test, logreg_pred)\n",
        "print(\"LogRegression Confusion Matrix:\", logreg_conf_mat, sep='\\n')\n",
        "\n",
        "# Compute accuracy\n",
        "logreg_acc = accuracy_score(y_test, logreg_pred)\n",
        "print(\"LogRegression Accuracy:\", logreg_acc)\n",
        "\n",
        "# Compute f1 Score\n",
        "logreg_f1_weighted = f1_score(y_test, logreg_pred, average='weighted')\n",
        "print(\"LogRegression F1 Weighted Score: \", logreg_f1_weighted)\n",
        "\n",
        "# Compute Jaccard (IOU) Score\n",
        "logreg_jaccard_score = jaccard_score(y_test, logreg_pred, average='weighted')\n",
        "print(\"LogRegression Jaccard Similarity Score:\", logreg_jaccard_score)\n",
        "\n",
        "# Compute false positive rate and true positive rate to plot ROC curve\n",
        "logreg_fpr, logreg_tpr, logreg_th = roc_curve(y_test, logreg_pred)\n",
        "\n",
        "plt.plot(logreg_fpr, logreg_tpr)\n",
        "plt.xlabel('LogRegression  False Positive Rate')\n",
        "plt.ylabel('LogRegression  True Positive Rate')\n",
        "plt.show()"
      ]
    },
    {
      "cell_type": "code",
      "execution_count": null,
      "metadata": {},
      "outputs": [],
      "source": []
    }
  ],
  "metadata": {
    "colab": {
      "provenance": []
    },
    "kernelspec": {
      "display_name": "Python 3",
      "name": "python3"
    },
    "language_info": {
      "codemirror_mode": {
        "name": "ipython",
        "version": 3
      },
      "file_extension": ".py",
      "mimetype": "text/x-python",
      "name": "python",
      "nbconvert_exporter": "python",
      "pygments_lexer": "ipython3",
      "version": "3.8.19"
    }
  },
  "nbformat": 4,
  "nbformat_minor": 0
}
